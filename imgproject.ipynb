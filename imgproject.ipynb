{
 "cells": [
  {
   "cell_type": "code",
   "execution_count": null,
   "metadata": {},
   "outputs": [],
   "source": [
    "#Creating the image class to ease the operations\n",
    "class Image:\n",
    "    def __init__(self,image):\n",
    "        self.image=image\n",
    "    #calculate grayscale\n",
    "    def thresh_hold(self):\n",
    "        pass\n",
    "    def to_gray_scale(self):\n",
    "        pass"
   ]
  }
 ],
 "metadata": {
  "kernelspec": {
   "display_name": "Python 3",
   "language": "python",
   "name": "python3"
  },
  "language_info": {
   "name": "python",
   "version": "3.9.0"
  }
 },
 "nbformat": 4,
 "nbformat_minor": 2
}
